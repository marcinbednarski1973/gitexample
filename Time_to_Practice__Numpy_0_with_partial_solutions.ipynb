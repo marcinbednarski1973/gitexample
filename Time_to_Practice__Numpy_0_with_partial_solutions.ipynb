{
  "cells": [
    {
      "cell_type": "markdown",
      "metadata": {
        "id": "view-in-github",
        "colab_type": "text"
      },
      "source": [
        "<a href=\"https://colab.research.google.com/github/marcinbednarski1973/gitexample/blob/main/Time_to_Practice__Numpy_0_with_partial_solutions.ipynb\" target=\"_parent\"><img src=\"https://colab.research.google.com/assets/colab-badge.svg\" alt=\"Open In Colab\"/></a>"
      ]
    },
    {
      "cell_type": "markdown",
      "metadata": {
        "id": "-XWt3nPFhENg"
      },
      "source": [
        "<img height=\"180px\" src=\"https://drive.google.com/uc?export=view&id=141XOz6N4nk8Ru1sAl7vOsAToCLrSFCAX\" alt=\"SDA logo\" align=\"left\" hspace=\"30px\" vspace=\"50px\"/>\n",
        "\n",
        "# Welcome to your next notebook with SDA!\n",
        "\n",
        "During the classes we will mostly use [Google Colaboratory](https://colab.research.google.com/?hl=en) which is a free Jupyter notebook environment that requires no setup and runs entirely in the cloud.\n",
        "\n",
        "However, for bigger projects, especially involving Deep Learning and/or big data reading, it might be a better choice to setup Jupyter Notebook or Jupyter Lab on your computer. Also, it is worth noticing that there is a great number of useful extensions (see [nbextensions](https://jupyter-contrib-nbextensions.readthedocs.io/en/latest/index.html) and [jupyter-labextension](https://jupyterlab.readthedocs.io/en/stable/user/extensions.html)) not available for Colab users."
      ]
    },
    {
      "cell_type": "code",
      "source": [],
      "metadata": {
        "id": "cyMgNzP6mko5"
      },
      "execution_count": null,
      "outputs": []
    },
    {
      "cell_type": "markdown",
      "source": [],
      "metadata": {
        "id": "wExSFb7YnJ8b"
      }
    },
    {
      "cell_type": "markdown",
      "source": [],
      "metadata": {
        "id": "M2xX9fhytX0q"
      }
    },
    {
      "cell_type": "markdown",
      "metadata": {
        "id": "_pi_0qQeiZ-0"
      },
      "source": [
        "<img src=\"https://drive.google.com/uc?export=view&id=1UO2urRciECzoKE_vHy4RMGfFbkOWOGlW\" alt=\"SDA logo\" align=\"left\" width=\"100px\" hspace=\"10px\" vspace=\"10px\"/>\n",
        "<br>\n",
        "\n",
        "# TASKS"
      ]
    },
    {
      "cell_type": "markdown",
      "metadata": {
        "id": "rzZ3BUSfijKe"
      },
      "source": [
        "<img src=\"https://drive.google.com/uc?export=view&id=141XOz6N4nk8Ru1sAl7vOsAToCLrSFCAX\" alt=\"SDA logo\" width=\"150\" align='right'/>\n",
        "<br>\n",
        "\n",
        "## Linear Algebra"
      ]
    },
    {
      "cell_type": "markdown",
      "metadata": {
        "id": "2SAWPPl8ipUl"
      },
      "source": [
        "### **<font color='#306998'>TASK </font><font color='#ffd33b'>1.1</font>**\n",
        "\n",
        "1. Create a NumPy array with consecutive values from 1 to 9. Display and then invert this array (first element becomes last, etc.).\n",
        "1. Do the same for the numbers between 7 and 19 (including these numbers)."
      ]
    },
    {
      "cell_type": "markdown",
      "metadata": {
        "id": "XVST5X4sRbs3"
      },
      "source": [
        "1a/"
      ]
    },
    {
      "cell_type": "code",
      "execution_count": 3,
      "metadata": {
        "id": "UTOeLsGL-sx2"
      },
      "outputs": [],
      "source": [
        "import numpy as np"
      ]
    },
    {
      "cell_type": "code",
      "execution_count": 2,
      "metadata": {
        "colab": {
          "base_uri": "https://localhost:8080/"
        },
        "id": "-dSe3mDC-wLM",
        "outputId": "9b27e1da-2e99-4618-eedc-bdd342a55fdd"
      },
      "outputs": [
        {
          "output_type": "execute_result",
          "data": {
            "text/plain": [
              "array([1, 2, 3, 4, 5, 6, 7, 8, 9])"
            ]
          },
          "metadata": {},
          "execution_count": 2
        }
      ],
      "source": [
        "naturals_1_9 = np.array([1, 2, 3, 4, 5, 6, 7, 8, 9])\n",
        "naturals_1_9"
      ]
    },
    {
      "cell_type": "code",
      "execution_count": 3,
      "metadata": {
        "colab": {
          "base_uri": "https://localhost:8080/"
        },
        "id": "SJD-LbZXWcoL",
        "outputId": "117030eb-d14a-4724-a47b-f249969dcf37"
      },
      "outputs": [
        {
          "output_type": "execute_result",
          "data": {
            "text/plain": [
              "array([1, 2, 3, 4, 5, 6, 7, 8, 9])"
            ]
          },
          "metadata": {},
          "execution_count": 3
        }
      ],
      "source": [
        "np.arange(1, 10)  # start is inclusive, right exclusive (aka right-open)"
      ]
    },
    {
      "cell_type": "code",
      "execution_count": 4,
      "metadata": {
        "colab": {
          "base_uri": "https://localhost:8080/"
        },
        "id": "PHU3_Tz6Wd2Z",
        "outputId": "094f52ad-bf32-45fb-fed2-bdd384b6cad4"
      },
      "outputs": [
        {
          "output_type": "execute_result",
          "data": {
            "text/plain": [
              "array([1., 2., 3., 4., 5., 6., 7., 8., 9.])"
            ]
          },
          "metadata": {},
          "execution_count": 4
        }
      ],
      "source": [
        "np.linspace(1, 9, 9)  # both inclusive"
      ]
    },
    {
      "cell_type": "code",
      "execution_count": 5,
      "metadata": {
        "colab": {
          "base_uri": "https://localhost:8080/"
        },
        "id": "w7iOI8wdWfGs",
        "outputId": "c2b6338c-0234-4657-b3c2-7afb481d5828"
      },
      "outputs": [
        {
          "output_type": "execute_result",
          "data": {
            "text/plain": [
              "array([1, 2, 3, 4, 5, 6, 7, 8, 9])"
            ]
          },
          "metadata": {},
          "execution_count": 5
        }
      ],
      "source": [
        "np.array([i for i in range(1, 10)])  # with list comprehension and range function"
      ]
    },
    {
      "cell_type": "markdown",
      "metadata": {
        "id": "fLrvYwReRdVd"
      },
      "source": [
        "1b/"
      ]
    },
    {
      "cell_type": "code",
      "execution_count": 6,
      "metadata": {
        "colab": {
          "base_uri": "https://localhost:8080/"
        },
        "id": "LhXQRKv1-7mj",
        "outputId": "f16d9ad1-632e-480b-e7ec-ba595e347f8c"
      },
      "outputs": [
        {
          "output_type": "execute_result",
          "data": {
            "text/plain": [
              "array([9, 8, 7, 6, 5, 4, 3, 2, 1])"
            ]
          },
          "metadata": {},
          "execution_count": 6
        }
      ],
      "source": [
        "naturals_1_9[::-1]  # start:stop:step"
      ]
    },
    {
      "cell_type": "code",
      "execution_count": 7,
      "metadata": {
        "colab": {
          "base_uri": "https://localhost:8080/"
        },
        "id": "ox7atXADWmBS",
        "outputId": "d267101d-3640-49e5-c5d1-2c4bda9471fa"
      },
      "outputs": [
        {
          "output_type": "execute_result",
          "data": {
            "text/plain": [
              "array([9, 8, 7, 6, 5, 4, 3, 2, 1])"
            ]
          },
          "metadata": {},
          "execution_count": 7
        }
      ],
      "source": [
        "# using numpy function flip\n",
        "np.flip(naturals_1_9)"
      ]
    },
    {
      "cell_type": "code",
      "execution_count": 8,
      "metadata": {
        "colab": {
          "base_uri": "https://localhost:8080/"
        },
        "id": "T1Py4TL4Wny1",
        "outputId": "c09a9b0c-c03d-4256-c7d0-83f2a6601e55"
      },
      "outputs": [
        {
          "output_type": "execute_result",
          "data": {
            "text/plain": [
              "array([9, 8, 7, 6, 5, 4, 3, 2, 1])"
            ]
          },
          "metadata": {},
          "execution_count": 8
        }
      ],
      "source": [
        "# list comprehension\n",
        "np.array([naturals_1_9[i] for i in range(len(naturals_1_9) - 1, -1, -1)])"
      ]
    },
    {
      "cell_type": "code",
      "execution_count": 9,
      "metadata": {
        "colab": {
          "base_uri": "https://localhost:8080/"
        },
        "id": "mOKPW1xPWpVf",
        "outputId": "134b3f99-33ba-46a7-9876-174a150d0d6a"
      },
      "outputs": [
        {
          "output_type": "execute_result",
          "data": {
            "text/plain": [
              "array([9, 8, 7, 6, 5, 4, 3, 2, 1])"
            ]
          },
          "metadata": {},
          "execution_count": 9
        }
      ],
      "source": [
        "# with a for loop\n",
        "inverted_naturals = []\n",
        "for i in range(len(naturals_1_9) - 1, -1, -1):\n",
        "    inverted_naturals.append(naturals_1_9[i])\n",
        "np.array(inverted_naturals)"
      ]
    },
    {
      "cell_type": "code",
      "execution_count": 10,
      "metadata": {
        "colab": {
          "base_uri": "https://localhost:8080/"
        },
        "id": "hcRIx2XUWrfa",
        "outputId": "66bf9fdc-b02f-4b0d-9952-25d2f73bf8f6"
      },
      "outputs": [
        {
          "output_type": "execute_result",
          "data": {
            "text/plain": [
              "array([9, 8, 7, 6, 5, 4, 3, 2, 1])"
            ]
          },
          "metadata": {},
          "execution_count": 10
        }
      ],
      "source": [
        "# using Python function sorted\n",
        "np.array(\n",
        "    sorted(naturals_1_9, reverse=True)\n",
        ")"
      ]
    },
    {
      "cell_type": "markdown",
      "metadata": {
        "id": "GRERJ_u6VUKZ"
      },
      "source": [
        "2/"
      ]
    },
    {
      "cell_type": "code",
      "execution_count": 11,
      "metadata": {
        "id": "js9RKj52VT4p",
        "colab": {
          "base_uri": "https://localhost:8080/"
        },
        "outputId": "baff0eeb-c4fa-4d3f-d569-95ae8489184c"
      },
      "outputs": [
        {
          "output_type": "stream",
          "name": "stdout",
          "text": [
            "[ 7  8  9 10 11 12 13 14 15 16 17 18 19]\n"
          ]
        }
      ],
      "source": [
        "task = np.arange(7,20)\n",
        "print(task)"
      ]
    },
    {
      "cell_type": "code",
      "source": [
        "task_2 = np.array(sorted(task, reverse = True))\n",
        "task_2"
      ],
      "metadata": {
        "colab": {
          "base_uri": "https://localhost:8080/"
        },
        "id": "58e7S0cFC6cp",
        "outputId": "438a9421-a8a1-4e45-db02-15f24545927c"
      },
      "execution_count": 12,
      "outputs": [
        {
          "output_type": "execute_result",
          "data": {
            "text/plain": [
              "array([19, 18, 17, 16, 15, 14, 13, 12, 11, 10,  9,  8,  7])"
            ]
          },
          "metadata": {},
          "execution_count": 12
        }
      ]
    },
    {
      "cell_type": "markdown",
      "metadata": {
        "id": "AuyyjAy6i0H2"
      },
      "source": [
        "### **<font color='#306998'>TASK </font><font color='#ffd33b'>1.2</font>**\n",
        "\n",
        "1. Create the following NumPy array: `np.array([1, 23, 4, 31, 1, 1, 4, 23, 4, 1])`; and then list all unique (non-repeating) elements.\n",
        "1. Perform similar task with the following NumPy array np.array([44, 1, 7, 12, 7, 44, 4, 7, 12, 1]) and then for each unique value, print out the value itself and the number of its occurences."
      ]
    },
    {
      "cell_type": "markdown",
      "metadata": {
        "id": "-bzd87HaWI2a"
      },
      "source": [
        "1/"
      ]
    },
    {
      "cell_type": "code",
      "execution_count": 10,
      "metadata": {
        "colab": {
          "base_uri": "https://localhost:8080/"
        },
        "id": "0En1ovQzVdU6",
        "outputId": "50bd357b-1150-45c9-cd2f-1909bf146ed1"
      },
      "outputs": [
        {
          "output_type": "execute_result",
          "data": {
            "text/plain": [
              "[1, 23, 4, 31]"
            ]
          },
          "metadata": {},
          "execution_count": 10
        }
      ],
      "source": [
        "my_array = np.array([1, 23, 4, 31, 1, 1, 4, 23, 4, 1])\n",
        "\n",
        "unique_elements = []\n",
        "\n",
        "for elem in my_array:\n",
        "    if elem not in unique_elements:\n",
        "        unique_elements.append(elem)\n",
        "\n",
        "unique_elements"
      ]
    },
    {
      "cell_type": "code",
      "execution_count": 11,
      "metadata": {
        "colab": {
          "base_uri": "https://localhost:8080/"
        },
        "id": "gej2dqsHWW8e",
        "outputId": "6f3e0eab-8527-4d0c-ba1a-ee4bba45d1a2"
      },
      "outputs": [
        {
          "output_type": "execute_result",
          "data": {
            "text/plain": [
              "array([ 1,  4, 23, 31])"
            ]
          },
          "metadata": {},
          "execution_count": 11
        }
      ],
      "source": [
        "# built-in numpy function\n",
        "np.unique(my_array)"
      ]
    },
    {
      "cell_type": "code",
      "execution_count": 12,
      "metadata": {
        "colab": {
          "base_uri": "https://localhost:8080/"
        },
        "id": "MMlpuhWbWtud",
        "outputId": "d9317276-1bea-407b-86ef-2b6fe7d27b21"
      },
      "outputs": [
        {
          "output_type": "execute_result",
          "data": {
            "text/plain": [
              "{1, 4, 23, 31}"
            ]
          },
          "metadata": {},
          "execution_count": 12
        }
      ],
      "source": [
        "# using set to extract unique elements\n",
        "set(my_array)"
      ]
    },
    {
      "cell_type": "markdown",
      "metadata": {
        "id": "Y7-XV6QXWKpk"
      },
      "source": [
        "2/"
      ]
    },
    {
      "cell_type": "code",
      "execution_count": 23,
      "metadata": {
        "id": "GL2GUFogWLu1",
        "colab": {
          "base_uri": "https://localhost:8080/"
        },
        "outputId": "3b745437-c20d-482a-89fc-28f2925dd057"
      },
      "outputs": [
        {
          "output_type": "execute_result",
          "data": {
            "text/plain": [
              "[44, 1, 7, 12, 4]"
            ]
          },
          "metadata": {},
          "execution_count": 23
        }
      ],
      "source": [
        "my_array_2 = np.array([44, 1, 7, 12, 7, 44, 4, 7, 12, 1])\n",
        "my_array_2\n",
        "unique_el = []\n",
        "\n",
        "for el in my_array_2:\n",
        "    if el not in unique_el:\n",
        "        unique_el.append(el)\n",
        "unique_el"
      ]
    },
    {
      "cell_type": "code",
      "source": [
        "from collections import Counter\n",
        "count_2 = Counter(my_array_2)\n",
        "count_2\n",
        "count_3 = np.unique(my_array_2, return_counts = True)\n",
        "count_3\n",
        "empty ={}\n",
        "for el in my_array_2:\n",
        "  if el in empty:\n",
        "    empty[el]+=1\n",
        "  else:\n",
        "    empty[el]=1\n",
        "\n",
        "print(empty)\n"
      ],
      "metadata": {
        "colab": {
          "base_uri": "https://localhost:8080/"
        },
        "id": "Xp9AqZtuF_h8",
        "outputId": "fc04b79e-b462-4b39-cf72-dbcc9db3aa0d"
      },
      "execution_count": 32,
      "outputs": [
        {
          "output_type": "stream",
          "name": "stdout",
          "text": [
            "{44: 2, 1: 2, 7: 3, 12: 2, 4: 1}\n"
          ]
        }
      ]
    },
    {
      "cell_type": "markdown",
      "metadata": {
        "id": "P47epBjXXktp"
      },
      "source": [
        "*Tip for the second part of the task:*\n",
        "\n",
        "*If you want to additionally count the occurrences of each of the unique elements then you can:*\n",
        "\n",
        "*   use `np.unique()` function with `return_count=True`\n",
        "*   use `from collections import Counter`, read more https://docs.python.org/3/library/collections.html#collections.Counter\n",
        "*   use a dict with a for loop to `+1` each time an element shows up\n"
      ]
    },
    {
      "cell_type": "code",
      "execution_count": 13,
      "metadata": {
        "id": "SqZVP5t0Yi52",
        "colab": {
          "base_uri": "https://localhost:8080/"
        },
        "outputId": "9607c6a3-d473-4d41-9546-a31cf7e3456a"
      },
      "outputs": [
        {
          "output_type": "execute_result",
          "data": {
            "text/plain": [
              "(array([ 1,  4, 23, 31]), array([4, 3, 2, 1]))"
            ]
          },
          "metadata": {},
          "execution_count": 13
        }
      ],
      "source": [
        "np.unique(my_array, return_counts = True)"
      ]
    },
    {
      "cell_type": "code",
      "source": [
        "from collections import Counter"
      ],
      "metadata": {
        "id": "jrCQQTyF-pur"
      },
      "execution_count": 14,
      "outputs": []
    },
    {
      "cell_type": "code",
      "source": [
        "count = Counter(my_array)\n",
        "count"
      ],
      "metadata": {
        "colab": {
          "base_uri": "https://localhost:8080/"
        },
        "id": "Nhx50zL7-tzu",
        "outputId": "5c2ac917-3db6-495a-e6a7-e0884927a780"
      },
      "execution_count": 17,
      "outputs": [
        {
          "output_type": "execute_result",
          "data": {
            "text/plain": [
              "Counter({1: 4, 23: 2, 4: 3, 31: 1})"
            ]
          },
          "metadata": {},
          "execution_count": 17
        }
      ]
    },
    {
      "cell_type": "markdown",
      "metadata": {
        "id": "eaH_HXM0i4VN"
      },
      "source": [
        "### **<font color='#306998'>TASK </font><font color='#ffd33b'>1.3</font>**\n",
        "\n",
        "1. Create a 3x3 matrix (by using `reshape` method) containign values ranging from 2 to 10 (inclusively).\n",
        "1. Next, construct a 2x5 matrix filled with consecutive integers beginning at 35 and concluding at 44.\n",
        "  * Explore additional configurations that this matrix can have (different shapes).\n"
      ]
    },
    {
      "cell_type": "markdown",
      "metadata": {
        "id": "bR3raP9bZ2uc"
      },
      "source": [
        "1/"
      ]
    },
    {
      "cell_type": "code",
      "execution_count": 18,
      "metadata": {
        "colab": {
          "base_uri": "https://localhost:8080/"
        },
        "id": "vrpg6M7ZYj0B",
        "outputId": "467dcdbe-7e0f-48f1-c56c-d6aa4c096fa5"
      },
      "outputs": [
        {
          "output_type": "execute_result",
          "data": {
            "text/plain": [
              "array([[ 2,  3,  4],\n",
              "       [ 5,  6,  7],\n",
              "       [ 8,  9, 10]])"
            ]
          },
          "metadata": {},
          "execution_count": 18
        }
      ],
      "source": [
        "np.array([[2, 3, 4], [5, 6, 7], [8, 9, 10]])"
      ]
    },
    {
      "cell_type": "code",
      "execution_count": 19,
      "metadata": {
        "colab": {
          "base_uri": "https://localhost:8080/"
        },
        "id": "f5Bk47v4YxMC",
        "outputId": "dc92c139-c893-4ff2-85bc-dff6da8d2fed"
      },
      "outputs": [
        {
          "output_type": "execute_result",
          "data": {
            "text/plain": [
              "array([[ 2,  3,  4],\n",
              "       [ 5,  6,  7],\n",
              "       [ 8,  9, 10]])"
            ]
          },
          "metadata": {},
          "execution_count": 19
        }
      ],
      "source": [
        "np.array([\n",
        "    [2, 3, 4],\n",
        "    [5, 6, 7],\n",
        "    [8, 9, 10]\n",
        "])"
      ]
    },
    {
      "cell_type": "code",
      "execution_count": 20,
      "metadata": {
        "colab": {
          "base_uri": "https://localhost:8080/"
        },
        "id": "YnaL8QA1Y7_Q",
        "outputId": "10194dbb-d660-45ef-989b-4c24081af308"
      },
      "outputs": [
        {
          "output_type": "execute_result",
          "data": {
            "text/plain": [
              "array([[ 2,  3,  4],\n",
              "       [ 5,  6,  7],\n",
              "       [ 8,  9, 10]])"
            ]
          },
          "metadata": {},
          "execution_count": 20
        }
      ],
      "source": [
        "np.arange(2, 11).reshape(3, 3)  # 3 rows, 3 columns"
      ]
    },
    {
      "cell_type": "code",
      "execution_count": 21,
      "metadata": {
        "colab": {
          "base_uri": "https://localhost:8080/"
        },
        "id": "gQwSyX1hZFl-",
        "outputId": "c9d84c80-114e-40c9-ff5f-74427c672533"
      },
      "outputs": [
        {
          "output_type": "execute_result",
          "data": {
            "text/plain": [
              "array([[ 2,  3,  4],\n",
              "       [ 5,  6,  7],\n",
              "       [ 8,  9, 10]])"
            ]
          },
          "metadata": {},
          "execution_count": 21
        }
      ],
      "source": [
        "np.arange(2, 11).reshape(3, -1)  # 3 rows, automatically count the number of columns"
      ]
    },
    {
      "cell_type": "code",
      "execution_count": 22,
      "metadata": {
        "colab": {
          "base_uri": "https://localhost:8080/"
        },
        "id": "LtQqHG5sZcKu",
        "outputId": "88d809b8-ff87-43dd-ae46-97c05ff4e7ae"
      },
      "outputs": [
        {
          "output_type": "execute_result",
          "data": {
            "text/plain": [
              "array([[ 2,  3,  4],\n",
              "       [ 5,  6,  7],\n",
              "       [ 8,  9, 10]])"
            ]
          },
          "metadata": {},
          "execution_count": 22
        }
      ],
      "source": [
        "np.arange(2, 11).reshape(-1, 3)  # 3 columns, automatically count the number of rows"
      ]
    },
    {
      "cell_type": "markdown",
      "metadata": {
        "id": "bfkDdto6Z4K3"
      },
      "source": [
        "2/"
      ]
    },
    {
      "cell_type": "code",
      "execution_count": 39,
      "metadata": {
        "id": "1VB04iZXZ8sy",
        "colab": {
          "base_uri": "https://localhost:8080/"
        },
        "outputId": "91c277ab-b5a0-44e5-a2da-da94a91b58a7"
      },
      "outputs": [
        {
          "output_type": "execute_result",
          "data": {
            "text/plain": [
              "array([[35, 36, 37, 38, 39],\n",
              "       [40, 41, 42, 43, 44]])"
            ]
          },
          "metadata": {},
          "execution_count": 39
        }
      ],
      "source": [
        "np.arange(35, 45).reshape(2, 5)\n"
      ]
    },
    {
      "cell_type": "code",
      "source": [
        "np.arange(35,45).reshape(5,2)"
      ],
      "metadata": {
        "colab": {
          "base_uri": "https://localhost:8080/"
        },
        "id": "tq4F4Qj3OLda",
        "outputId": "ab0dc692-c2c6-47b9-da20-939695b26950"
      },
      "execution_count": 40,
      "outputs": [
        {
          "output_type": "execute_result",
          "data": {
            "text/plain": [
              "array([[35, 36],\n",
              "       [37, 38],\n",
              "       [39, 40],\n",
              "       [41, 42],\n",
              "       [43, 44]])"
            ]
          },
          "metadata": {},
          "execution_count": 40
        }
      ]
    },
    {
      "cell_type": "code",
      "source": [
        "np.arange(35,45).reshape(1,-1)"
      ],
      "metadata": {
        "colab": {
          "base_uri": "https://localhost:8080/"
        },
        "id": "Wao19hVEOWxi",
        "outputId": "2115dc4f-a6bd-4cfd-dfc8-d98e1b3fde08"
      },
      "execution_count": 41,
      "outputs": [
        {
          "output_type": "execute_result",
          "data": {
            "text/plain": [
              "array([[35, 36, 37, 38, 39, 40, 41, 42, 43, 44]])"
            ]
          },
          "metadata": {},
          "execution_count": 41
        }
      ]
    },
    {
      "cell_type": "code",
      "source": [
        "np.arange(35,45).reshape(-1,1)"
      ],
      "metadata": {
        "colab": {
          "base_uri": "https://localhost:8080/"
        },
        "id": "egR8u1hDOb2x",
        "outputId": "975800f4-ca55-43d3-d57f-518b4d0880bb"
      },
      "execution_count": 42,
      "outputs": [
        {
          "output_type": "execute_result",
          "data": {
            "text/plain": [
              "array([[35],\n",
              "       [36],\n",
              "       [37],\n",
              "       [38],\n",
              "       [39],\n",
              "       [40],\n",
              "       [41],\n",
              "       [42],\n",
              "       [43],\n",
              "       [44]])"
            ]
          },
          "metadata": {},
          "execution_count": 42
        }
      ]
    },
    {
      "cell_type": "markdown",
      "metadata": {
        "id": "Loa3gsQti_5q"
      },
      "source": [
        "### **<font color='#306998'>TASK </font><font color='#ffd33b'>1.4</font>**\n",
        "\n",
        "1. Create an array with six random integers between 10 and 30.\n",
        "1. Create an array with eight random integers between 102 and 159.\n",
        "1. Create an array with ten random real values between 0 and 7. (optional)"
      ]
    },
    {
      "cell_type": "markdown",
      "metadata": {
        "id": "YKndmlZ8cySs"
      },
      "source": [
        "1/ See Appendix for more information"
      ]
    },
    {
      "cell_type": "code",
      "execution_count": 23,
      "metadata": {
        "colab": {
          "base_uri": "https://localhost:8080/"
        },
        "id": "kOEdNEfnbXzI",
        "outputId": "6463e2a0-8417-4225-a5ed-6ae74a1246e0"
      },
      "outputs": [
        {
          "output_type": "execute_result",
          "data": {
            "text/plain": [
              "array([14, 21, 15, 30, 12, 28])"
            ]
          },
          "metadata": {},
          "execution_count": 23
        }
      ],
      "source": [
        "np.random.randint(10, 31, size=6)"
      ]
    },
    {
      "cell_type": "code",
      "execution_count": 27,
      "metadata": {
        "colab": {
          "base_uri": "https://localhost:8080/"
        },
        "id": "JyRIb6xucFAg",
        "outputId": "6e70a4f7-297c-4d2c-e910-1a190b6855ed"
      },
      "outputs": [
        {
          "output_type": "execute_result",
          "data": {
            "text/plain": [
              "array([24, 25, 16, 12, 14, 10])"
            ]
          },
          "metadata": {},
          "execution_count": 27
        }
      ],
      "source": [
        "np.random.choice(\n",
        "    np.arange(10, 31),  # values to choose from\n",
        "    size=6,  # number of values to choose\n",
        "    replace=True  # non-unique elements, possible repetitions\n",
        ")"
      ]
    },
    {
      "cell_type": "markdown",
      "metadata": {
        "id": "BENmehw_czTv"
      },
      "source": [
        "2/"
      ]
    },
    {
      "cell_type": "code",
      "execution_count": 29,
      "metadata": {
        "id": "b9itFiqDcUfJ",
        "colab": {
          "base_uri": "https://localhost:8080/"
        },
        "outputId": "5e99d8cc-825b-4b7b-d0cd-3b73d91136e7"
      },
      "outputs": [
        {
          "output_type": "stream",
          "name": "stdout",
          "text": [
            "[0.         0.07070707 0.14141414 0.21212121 0.28282828 0.35353535\n",
            " 0.42424242 0.49494949 0.56565657 0.63636364 0.70707071 0.77777778\n",
            " 0.84848485 0.91919192 0.98989899 1.06060606 1.13131313 1.2020202\n",
            " 1.27272727 1.34343434 1.41414141 1.48484848 1.55555556 1.62626263\n",
            " 1.6969697  1.76767677 1.83838384 1.90909091 1.97979798 2.05050505\n",
            " 2.12121212 2.19191919 2.26262626 2.33333333 2.4040404  2.47474747\n",
            " 2.54545455 2.61616162 2.68686869 2.75757576 2.82828283 2.8989899\n",
            " 2.96969697 3.04040404 3.11111111 3.18181818 3.25252525 3.32323232\n",
            " 3.39393939 3.46464646 3.53535354 3.60606061 3.67676768 3.74747475\n",
            " 3.81818182 3.88888889 3.95959596 4.03030303 4.1010101  4.17171717\n",
            " 4.24242424 4.31313131 4.38383838 4.45454545 4.52525253 4.5959596\n",
            " 4.66666667 4.73737374 4.80808081 4.87878788 4.94949495 5.02020202\n",
            " 5.09090909 5.16161616 5.23232323 5.3030303  5.37373737 5.44444444\n",
            " 5.51515152 5.58585859 5.65656566 5.72727273 5.7979798  5.86868687\n",
            " 5.93939394 6.01010101 6.08080808 6.15151515 6.22222222 6.29292929\n",
            " 6.36363636 6.43434343 6.50505051 6.57575758 6.64646465 6.71717172\n",
            " 6.78787879 6.85858586 6.92929293 7.        ]\n"
          ]
        },
        {
          "output_type": "execute_result",
          "data": {
            "text/plain": [
              "array([3.81818182, 2.26262626, 4.38383838, 0.35353535, 4.1010101 ,\n",
              "       2.8989899 , 6.15151515, 0.14141414, 6.29292929, 4.73737374])"
            ]
          },
          "metadata": {},
          "execution_count": 29
        }
      ],
      "source": [
        "values_0_7 = np.linspace(0,7,100)\n",
        "print(values_0_7)\n",
        "values_random =np.random.choice(values_0_7, size =10, replace = False)\n",
        "values_random"
      ]
    },
    {
      "cell_type": "code",
      "source": [
        "np.random.randint(102,160,8)"
      ],
      "metadata": {
        "colab": {
          "base_uri": "https://localhost:8080/"
        },
        "id": "H5esbOHHOsJK",
        "outputId": "67d5ea05-9467-472e-c5c2-62b02497ff3f"
      },
      "execution_count": 44,
      "outputs": [
        {
          "output_type": "execute_result",
          "data": {
            "text/plain": [
              "array([136, 154, 139, 115, 113, 126, 127, 143])"
            ]
          },
          "metadata": {},
          "execution_count": 44
        }
      ]
    },
    {
      "cell_type": "code",
      "source": [
        "np.random.uniform(0,7,8)"
      ],
      "metadata": {
        "colab": {
          "base_uri": "https://localhost:8080/"
        },
        "id": "JrOnaQuhPIRV",
        "outputId": "33de01cb-50ee-4e01-da24-bdc3155d8781"
      },
      "execution_count": 48,
      "outputs": [
        {
          "output_type": "execute_result",
          "data": {
            "text/plain": [
              "array([0.92936753, 4.88818699, 5.28022597, 2.66099104, 1.13407588,\n",
              "       1.84906203, 4.17527633, 0.95998415])"
            ]
          },
          "metadata": {},
          "execution_count": 48
        }
      ]
    },
    {
      "cell_type": "markdown",
      "metadata": {
        "id": "myGAohGTklB0"
      },
      "source": [
        "### **<font color='#306998'>TASK </font><font color='#ffd33b'>1.5</font>**\n",
        "\n",
        "1. Use the following code to define 2D array, ie. matrix, and then determine its dimension and number of elements.\n",
        "1. Perform the same operations using matrices from 1.3.\n",
        "\n",
        "```\n",
        "A = np.array([[1, 2, 3, 4], [5, 6, -7, 1]])\n",
        "```"
      ]
    },
    {
      "cell_type": "markdown",
      "metadata": {
        "id": "pgNnWYaqdr5O"
      },
      "source": [
        "1/"
      ]
    },
    {
      "cell_type": "code",
      "execution_count": 33,
      "metadata": {
        "id": "j7g9p9Woc9c4",
        "colab": {
          "base_uri": "https://localhost:8080/"
        },
        "outputId": "410ca67e-fd1a-47b8-b5a8-224d45fb0cec"
      },
      "outputs": [
        {
          "output_type": "execute_result",
          "data": {
            "text/plain": [
              "array([[ 1,  2,  3,  4],\n",
              "       [ 5,  6, -7,  1]])"
            ]
          },
          "metadata": {},
          "execution_count": 33
        }
      ],
      "source": [
        "A = np.array([[1, 2, 3, 4], [5, 6, -7, 1]])\n",
        "A"
      ]
    },
    {
      "cell_type": "code",
      "execution_count": 34,
      "metadata": {
        "colab": {
          "base_uri": "https://localhost:8080/"
        },
        "id": "9ixCMoTDc_NV",
        "outputId": "414bb8a1-fc9f-4649-9f34-9b5dc0282a1a"
      },
      "outputs": [
        {
          "output_type": "execute_result",
          "data": {
            "text/plain": [
              "(2, 4)"
            ]
          },
          "metadata": {},
          "execution_count": 34
        }
      ],
      "source": [
        "dimensions = A.shape\n",
        "dimensions"
      ]
    },
    {
      "cell_type": "code",
      "execution_count": 35,
      "metadata": {
        "id": "n1OcBvujdX1m"
      },
      "outputs": [],
      "source": [
        "rows, columns = dimensions"
      ]
    },
    {
      "cell_type": "code",
      "execution_count": 36,
      "metadata": {
        "colab": {
          "base_uri": "https://localhost:8080/"
        },
        "id": "IMnWU1PddCLD",
        "outputId": "c576e17a-f079-41a8-8bff-fc2dc47087aa"
      },
      "outputs": [
        {
          "output_type": "execute_result",
          "data": {
            "text/plain": [
              "8"
            ]
          },
          "metadata": {},
          "execution_count": 36
        }
      ],
      "source": [
        "A.size"
      ]
    },
    {
      "cell_type": "markdown",
      "metadata": {
        "id": "TQ0NN9Epdspi"
      },
      "source": [
        "2/"
      ]
    },
    {
      "cell_type": "code",
      "execution_count": 49,
      "metadata": {
        "id": "B4F4qwsvdgBt",
        "colab": {
          "base_uri": "https://localhost:8080/"
        },
        "outputId": "d34f5bf2-33a9-4681-8af4-bac126dbca71"
      },
      "outputs": [
        {
          "output_type": "execute_result",
          "data": {
            "text/plain": [
              "array([[ 2,  3,  4],\n",
              "       [ 5,  6,  7],\n",
              "       [ 8,  9, 10]])"
            ]
          },
          "metadata": {},
          "execution_count": 49
        }
      ],
      "source": [
        "C = np.array([[2, 3, 4], [5, 6, 7], [8, 9, 10]])\n",
        "C"
      ]
    },
    {
      "cell_type": "code",
      "source": [
        "C.size\n",
        "dimen = C.shape\n",
        "dimen"
      ],
      "metadata": {
        "colab": {
          "base_uri": "https://localhost:8080/"
        },
        "id": "Bidc3fN9QhpG",
        "outputId": "6a393be0-6cfd-4ac3-b2b1-6384bfb8f2e4"
      },
      "execution_count": 59,
      "outputs": [
        {
          "output_type": "execute_result",
          "data": {
            "text/plain": [
              "(3, 3)"
            ]
          },
          "metadata": {},
          "execution_count": 59
        }
      ]
    },
    {
      "cell_type": "markdown",
      "metadata": {
        "id": "JK8m2RO0jGvd"
      },
      "source": [
        "### **<font color='#306998'>TASK </font><font color='#ffd33b'>1.6</font>**\n",
        "\n",
        "1/ From the array of values: `[23, 45, 112, 150, 43, 254, 95, 8]` filter for those that are greater than 100."
      ]
    },
    {
      "cell_type": "code",
      "execution_count": 37,
      "metadata": {
        "id": "3mgdIqoedt1O"
      },
      "outputs": [],
      "source": [
        "array = np.array([23, 45, 112, 150, 43, 254, 95, 8])"
      ]
    },
    {
      "cell_type": "code",
      "execution_count": 38,
      "metadata": {
        "colab": {
          "base_uri": "https://localhost:8080/"
        },
        "id": "uvR4xnaxdzTn",
        "outputId": "239f27fd-9cc0-4b94-a327-1bf712af5200"
      },
      "outputs": [
        {
          "output_type": "execute_result",
          "data": {
            "text/plain": [
              "array([False, False,  True,  True, False,  True, False, False])"
            ]
          },
          "metadata": {},
          "execution_count": 38
        }
      ],
      "source": [
        "array > 100  # boolean mask"
      ]
    },
    {
      "cell_type": "code",
      "execution_count": 39,
      "metadata": {
        "colab": {
          "base_uri": "https://localhost:8080/"
        },
        "id": "Bdsm1iw6d08X",
        "outputId": "53099d6f-19b9-4bba-8e7b-c059c27a47d1"
      },
      "outputs": [
        {
          "output_type": "execute_result",
          "data": {
            "text/plain": [
              "array([112, 150, 254])"
            ]
          },
          "metadata": {},
          "execution_count": 39
        }
      ],
      "source": [
        "array[array > 100]  # indexing"
      ]
    },
    {
      "cell_type": "code",
      "execution_count": 40,
      "metadata": {
        "colab": {
          "base_uri": "https://localhost:8080/"
        },
        "id": "VUfKF8Q7eNqI",
        "outputId": "c09d7d39-c69f-4670-f2c2-639d77f28990"
      },
      "outputs": [
        {
          "output_type": "execute_result",
          "data": {
            "text/plain": [
              "[112, 150, 254]"
            ]
          },
          "metadata": {},
          "execution_count": 40
        }
      ],
      "source": [
        "# less efficient\n",
        "array_above_100 = []\n",
        "\n",
        "for i in array:\n",
        "    if i > 100:\n",
        "        array_above_100.append(i)\n",
        "\n",
        "array_above_100"
      ]
    },
    {
      "cell_type": "code",
      "execution_count": 42,
      "metadata": {
        "colab": {
          "base_uri": "https://localhost:8080/"
        },
        "id": "2b4hDFN2eZkg",
        "outputId": "ba94c899-09c9-481f-9fd4-d758af706645"
      },
      "outputs": [
        {
          "output_type": "execute_result",
          "data": {
            "text/plain": [
              "[112, 150, 254]"
            ]
          },
          "metadata": {},
          "execution_count": 42
        }
      ],
      "source": [
        "[i for i in array if i > 100]"
      ]
    },
    {
      "cell_type": "code",
      "execution_count": 43,
      "metadata": {
        "colab": {
          "base_uri": "https://localhost:8080/"
        },
        "id": "qFB3XdB9e-lm",
        "outputId": "a3f95aa2-c971-4c06-ffb0-e74486e7b8db"
      },
      "outputs": [
        {
          "output_type": "execute_result",
          "data": {
            "text/plain": [
              "array([2, 3, 5])"
            ]
          },
          "metadata": {},
          "execution_count": 43
        }
      ],
      "source": [
        "# useful if you need a list of indices\n",
        "np.where(array > 100)[0]"
      ]
    },
    {
      "cell_type": "markdown",
      "metadata": {
        "id": "bVC-EQoId986"
      },
      "source": [
        "2/ From the array `[10, 21, 32, 43, 54, 65, 76, 87]`, filter for those values that are odd."
      ]
    },
    {
      "cell_type": "code",
      "execution_count": 68,
      "metadata": {
        "id": "9PuAYopAd3IC",
        "colab": {
          "base_uri": "https://localhost:8080/"
        },
        "outputId": "2054bd66-7da8-4389-a05c-58f2223b0752"
      },
      "outputs": [
        {
          "output_type": "stream",
          "name": "stdout",
          "text": [
            "[False  True False  True False  True False  True]\n"
          ]
        },
        {
          "output_type": "execute_result",
          "data": {
            "text/plain": [
              "array([21, 43, 65, 87])"
            ]
          },
          "metadata": {},
          "execution_count": 68
        }
      ],
      "source": [
        "arr_2 = np.array([10, 21, 32, 43, 54, 65, 76, 87])\n",
        "arr_2\n",
        "arr_3 = (arr_2) % 2 == 1\n",
        "arr_3\n",
        "print(arr_3)\n",
        "arr_2 = arr_2[arr_3]\n",
        "arr_2\n"
      ]
    },
    {
      "cell_type": "markdown",
      "metadata": {
        "id": "FquByg7fjLiz"
      },
      "source": [
        "### **<font color='#306998'>TASK </font><font color='#ffd33b'>1.7</font>**\n",
        "\n",
        "Create the 4x4 matrix below, then:\n",
        "* display the item from the second row and the third column,\n",
        "\n",
        "$$\n",
        "A=\n",
        "\\begin{bmatrix}\n",
        "1 & 2 & 3 & 4 \\\\\n",
        "5 & 6 & 7 & 8 \\\\\n",
        "9 & 10 & 11 & 12 \\\\\n",
        "13 & 14 & 15 & 16\n",
        "\\end{bmatrix}\n",
        "$$"
      ]
    },
    {
      "cell_type": "code",
      "execution_count": 14,
      "metadata": {
        "id": "f8zQR07WfMwp",
        "colab": {
          "base_uri": "https://localhost:8080/"
        },
        "outputId": "a42405ac-8e37-47ba-92e3-b43c660af6e0"
      },
      "outputs": [
        {
          "output_type": "stream",
          "name": "stdout",
          "text": [
            "[[ 1  2  3  4]\n",
            " [ 5  6  7  8]\n",
            " [ 9 10 11 12]\n",
            " [13 14 15 16]]\n"
          ]
        },
        {
          "output_type": "execute_result",
          "data": {
            "text/plain": [
              "7"
            ]
          },
          "metadata": {},
          "execution_count": 14
        }
      ],
      "source": [
        "A= matrix_4_4 = np.array([i for i in range(1,17)]).reshape(4,4)\n",
        "print(A)\n",
        "matrix_4_4[1][2]"
      ]
    },
    {
      "cell_type": "code",
      "source": [
        "B = A[:,3].reshape(-1,1)\n",
        "B"
      ],
      "metadata": {
        "colab": {
          "base_uri": "https://localhost:8080/"
        },
        "id": "LIneNduaz9Mk",
        "outputId": "451ea670-6d73-4e1a-b6cd-865d020e19d4"
      },
      "execution_count": 16,
      "outputs": [
        {
          "output_type": "execute_result",
          "data": {
            "text/plain": [
              "array([[ 4],\n",
              "       [ 8],\n",
              "       [12],\n",
              "       [16]])"
            ]
          },
          "metadata": {},
          "execution_count": 16
        }
      ]
    },
    {
      "cell_type": "code",
      "source": [
        "C = A[1:3,0:2]\n",
        "C"
      ],
      "metadata": {
        "colab": {
          "base_uri": "https://localhost:8080/"
        },
        "id": "NkA25Uyp0aw2",
        "outputId": "63354c9c-3c26-4f6b-f1ec-2133967fbce1"
      },
      "execution_count": 18,
      "outputs": [
        {
          "output_type": "execute_result",
          "data": {
            "text/plain": [
              "array([[ 5,  6],\n",
              "       [ 9, 10]])"
            ]
          },
          "metadata": {},
          "execution_count": 18
        }
      ]
    },
    {
      "cell_type": "markdown",
      "metadata": {
        "id": "JzpVJoKJkwKE"
      },
      "source": [
        "### **<font color='#306998'>TASK </font><font color='#ffd33b'>1.8</font>**\n",
        "\n",
        "Print out all natural numbers less than 100 that are divisible by 11. Try not to use any iteration over loop."
      ]
    },
    {
      "cell_type": "code",
      "execution_count": 22,
      "metadata": {
        "id": "dQLSvtm4f2bE"
      },
      "outputs": [],
      "source": [
        "import numpy as np\n",
        "p = np.arange(0,100)"
      ]
    },
    {
      "cell_type": "code",
      "execution_count": 23,
      "metadata": {
        "id": "alf9NEaamTLU",
        "outputId": "00232932-c1a9-481a-f53b-47bd76082781",
        "colab": {
          "base_uri": "https://localhost:8080/"
        }
      },
      "outputs": [
        {
          "output_type": "execute_result",
          "data": {
            "text/plain": [
              "array([ 0, 11, 22, 33, 44, 55, 66, 77, 88, 99])"
            ]
          },
          "metadata": {},
          "execution_count": 23
        }
      ],
      "source": [
        "p[p % 11 ==0 ]"
      ]
    },
    {
      "cell_type": "code",
      "execution_count": 30,
      "metadata": {
        "id": "JnmV0fU1mTLV",
        "colab": {
          "base_uri": "https://localhost:8080/"
        },
        "outputId": "b77f9017-c063-47fa-c3db-8ced4eaedd7f"
      },
      "outputs": [
        {
          "output_type": "execute_result",
          "data": {
            "text/plain": [
              "array([11, 22, 33, 44, 55, 66, 77, 88, 99])"
            ]
          },
          "metadata": {},
          "execution_count": 30
        }
      ],
      "source": [
        "divisible_11 =[]\n",
        "for el in range(len(p)):\n",
        "  divisible_11.append(p[el] % 11 == 0)\n",
        "\n",
        "divisible_11\n",
        "c = p[divisible_11]\n",
        "c\n",
        "\n",
        "d = np.arange(11,100,11)\n",
        "d"
      ]
    },
    {
      "cell_type": "markdown",
      "metadata": {
        "id": "haHtEV39xWnC"
      },
      "source": [
        "### **<font color='#306998'>TASK </font><font color='#ffd33b'>1.9</font>**\n",
        "\n",
        "Create a vector consisting of consecutive natural numbers: `6, 7, 8, ..., 35`. Change its shape in several ways."
      ]
    },
    {
      "cell_type": "code",
      "execution_count": 33,
      "metadata": {
        "id": "v6S_0X0Hf4PD",
        "colab": {
          "base_uri": "https://localhost:8080/"
        },
        "outputId": "d6f571e9-d0a1-4562-a794-02aa32fabab6"
      },
      "outputs": [
        {
          "output_type": "execute_result",
          "data": {
            "text/plain": [
              "array([ 6,  7,  8,  9, 10, 11, 12, 13, 14, 15, 16, 17, 18, 19, 20, 21, 22,\n",
              "       23, 24, 25, 26, 27, 28, 29, 30, 31, 32, 33, 34, 35])"
            ]
          },
          "metadata": {},
          "execution_count": 33
        }
      ],
      "source": [
        "vec = np.arange(6,36)\n",
        "vec"
      ]
    },
    {
      "cell_type": "code",
      "source": [
        "vec.shape"
      ],
      "metadata": {
        "colab": {
          "base_uri": "https://localhost:8080/"
        },
        "id": "vQp87udX3rgT",
        "outputId": "b62f829d-17ac-43ca-80e5-f97ccc0eeff0"
      },
      "execution_count": 34,
      "outputs": [
        {
          "output_type": "execute_result",
          "data": {
            "text/plain": [
              "(30,)"
            ]
          },
          "metadata": {},
          "execution_count": 34
        }
      ]
    },
    {
      "cell_type": "code",
      "source": [
        "vec.size"
      ],
      "metadata": {
        "colab": {
          "base_uri": "https://localhost:8080/"
        },
        "id": "Lm-3qgXF32IU",
        "outputId": "1ab232c9-4fb2-48d8-dc0a-20d96297b127"
      },
      "execution_count": 35,
      "outputs": [
        {
          "output_type": "execute_result",
          "data": {
            "text/plain": [
              "30"
            ]
          },
          "metadata": {},
          "execution_count": 35
        }
      ]
    },
    {
      "cell_type": "code",
      "source": [
        "vec.reshape(6,5)"
      ],
      "metadata": {
        "colab": {
          "base_uri": "https://localhost:8080/"
        },
        "id": "sgYDNCWO35xz",
        "outputId": "2480d97f-238a-48f5-9401-bfcf715213f1"
      },
      "execution_count": 36,
      "outputs": [
        {
          "output_type": "execute_result",
          "data": {
            "text/plain": [
              "array([[ 6,  7,  8,  9, 10],\n",
              "       [11, 12, 13, 14, 15],\n",
              "       [16, 17, 18, 19, 20],\n",
              "       [21, 22, 23, 24, 25],\n",
              "       [26, 27, 28, 29, 30],\n",
              "       [31, 32, 33, 34, 35]])"
            ]
          },
          "metadata": {},
          "execution_count": 36
        }
      ]
    },
    {
      "cell_type": "code",
      "source": [
        "vec.reshape(3,10)"
      ],
      "metadata": {
        "colab": {
          "base_uri": "https://localhost:8080/"
        },
        "id": "f_hTIcVP4no7",
        "outputId": "88fa7c0e-7f6e-4cfe-8587-c5e4526d9d24"
      },
      "execution_count": 37,
      "outputs": [
        {
          "output_type": "execute_result",
          "data": {
            "text/plain": [
              "array([[ 6,  7,  8,  9, 10, 11, 12, 13, 14, 15],\n",
              "       [16, 17, 18, 19, 20, 21, 22, 23, 24, 25],\n",
              "       [26, 27, 28, 29, 30, 31, 32, 33, 34, 35]])"
            ]
          },
          "metadata": {},
          "execution_count": 37
        }
      ]
    },
    {
      "cell_type": "code",
      "source": [
        "vec.reshape(10,1,3)"
      ],
      "metadata": {
        "colab": {
          "base_uri": "https://localhost:8080/"
        },
        "id": "zux-R8DC4ruu",
        "outputId": "b7115fd6-3672-4524-d4d5-b3961982a455"
      },
      "execution_count": 43,
      "outputs": [
        {
          "output_type": "execute_result",
          "data": {
            "text/plain": [
              "array([[[ 6,  7,  8]],\n",
              "\n",
              "       [[ 9, 10, 11]],\n",
              "\n",
              "       [[12, 13, 14]],\n",
              "\n",
              "       [[15, 16, 17]],\n",
              "\n",
              "       [[18, 19, 20]],\n",
              "\n",
              "       [[21, 22, 23]],\n",
              "\n",
              "       [[24, 25, 26]],\n",
              "\n",
              "       [[27, 28, 29]],\n",
              "\n",
              "       [[30, 31, 32]],\n",
              "\n",
              "       [[33, 34, 35]]])"
            ]
          },
          "metadata": {},
          "execution_count": 43
        }
      ]
    },
    {
      "cell_type": "code",
      "source": [
        "vec.reshape(15,2)"
      ],
      "metadata": {
        "colab": {
          "base_uri": "https://localhost:8080/"
        },
        "id": "4qbCYnPX4xyf",
        "outputId": "e6a743ff-0fb2-4581-9042-a4c0090254f2"
      },
      "execution_count": 39,
      "outputs": [
        {
          "output_type": "execute_result",
          "data": {
            "text/plain": [
              "array([[ 6,  7],\n",
              "       [ 8,  9],\n",
              "       [10, 11],\n",
              "       [12, 13],\n",
              "       [14, 15],\n",
              "       [16, 17],\n",
              "       [18, 19],\n",
              "       [20, 21],\n",
              "       [22, 23],\n",
              "       [24, 25],\n",
              "       [26, 27],\n",
              "       [28, 29],\n",
              "       [30, 31],\n",
              "       [32, 33],\n",
              "       [34, 35]])"
            ]
          },
          "metadata": {},
          "execution_count": 39
        }
      ]
    },
    {
      "cell_type": "markdown",
      "metadata": {
        "id": "OcPbqfhY5JOH"
      },
      "source": [
        "### **<font color='#306998'>TASK </font><font color='#ffd33b'>1.10</font>**\n",
        "\n",
        "Using `np.reshape()` method, create a `3x3` matrix with all integers from 51 to 59."
      ]
    },
    {
      "cell_type": "code",
      "execution_count": 47,
      "metadata": {
        "id": "VWQROsb4gybL",
        "colab": {
          "base_uri": "https://localhost:8080/"
        },
        "outputId": "a84c4d9b-c50d-45eb-eb2f-49af0293f098"
      },
      "outputs": [
        {
          "output_type": "execute_result",
          "data": {
            "text/plain": [
              "array([[51, 52, 53],\n",
              "       [54, 55, 56],\n",
              "       [57, 58, 59]])"
            ]
          },
          "metadata": {},
          "execution_count": 47
        }
      ],
      "source": [
        "vec_2 = np.arange(51,60)\n",
        "np.reshape(vec_2,(3,3))\n"
      ]
    },
    {
      "cell_type": "markdown",
      "metadata": {
        "id": "miJxoOkZ7c5y"
      },
      "source": [
        "<img src=\"https://drive.google.com/uc?export=view&id=141XOz6N4nk8Ru1sAl7vOsAToCLrSFCAX\" alt=\"SDA logo\" width=\"150\" align='right'/>\n",
        "<br>\n",
        "\n",
        "## Appendix: random numbers generators\n",
        "\n",
        "1. Randomly generated number(s) from normal (Gauss) distribution.\n",
        "```python\n",
        "np.random.normal()\n",
        "np.random.normal(size=6)\n",
        "```\n",
        "1. Randomly selected numbers from the uniform system.\n",
        "```python\n",
        "np.random.uniform(size=6)\n",
        "```\n",
        "1. Randomly selected number from a specific range.\n",
        "```python\n",
        "np.random.randint(3, 30, size=6)\n",
        "```\n",
        "1. Randomly selected floating-point number\n",
        "```python\n",
        "np.random.random()\n",
        "```"
      ]
    }
  ],
  "metadata": {
    "colab": {
      "provenance": [],
      "include_colab_link": true
    },
    "kernelspec": {
      "display_name": "Python 3 (ipykernel)",
      "language": "python",
      "name": "python3"
    },
    "language_info": {
      "codemirror_mode": {
        "name": "ipython",
        "version": 3
      },
      "file_extension": ".py",
      "mimetype": "text/x-python",
      "name": "python",
      "nbconvert_exporter": "python",
      "pygments_lexer": "ipython3",
      "version": "3.9.13"
    }
  },
  "nbformat": 4,
  "nbformat_minor": 0
}